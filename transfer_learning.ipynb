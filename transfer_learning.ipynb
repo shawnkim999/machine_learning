{
 "cells": [
  {
   "cell_type": "markdown",
   "id": "a80532b1-6987-43b3-ae5c-6982c53f925f",
   "metadata": {},
   "source": [
    "# Transfer Learning"
   ]
  },
  {
   "cell_type": "code",
   "execution_count": null,
   "id": "4252750e-1e29-48b1-a2f0-57b5f7fe00d0",
   "metadata": {},
   "outputs": [],
   "source": [
    "import numpy as np\n",
    "import pandas as pd\n",
    "import matplotlib.pylab as plt\n",
    "import cv2\n",
    "import os\n",
    "import tensorflow as tf\n",
    "import tensorflow_hub as hub\n",
    "from tensorflow import keras\n",
    "from tensorflow.keras.layers import Conv2D, MaxPooling2D, Flatten, Dense\n",
    "from tensorflow.keras.models import Sequential\n",
    "import glob"
   ]
  },
  {
   "cell_type": "code",
   "execution_count": 3,
   "id": "e2a7262c-b75b-49cc-a5fd-b91d94b2ee43",
   "metadata": {},
   "outputs": [],
   "source": [
    "# ONLY FOR NVIDIA\n",
    "CUDA_VISIBLE_DEVICES = 0"
   ]
  },
  {
   "cell_type": "code",
   "execution_count": null,
   "id": "f6cca493-dc46-481f-8827-0958f79cf0fe",
   "metadata": {},
   "outputs": [],
   "source": [
    "tf.config.list_physical_devices('GPU')"
   ]
  },
  {
   "cell_type": "code",
   "execution_count": 4,
   "id": "2e0e2acb-1780-4b8c-b1c3-c7b0591a0a48",
   "metadata": {},
   "outputs": [],
   "source": [
    "dataset_url = \"https://storage.googleapis.com/download.tensorflow.org/example_images/flower_photos.tgz\"\n",
    "data_dir = tf.keras.utils.get_file('flower_photos', origin=dataset_url, cache_dir='.', untar=True)"
   ]
  },
  {
   "cell_type": "code",
   "execution_count": 5,
   "id": "66f9f1f6-e090-4ca6-8453-9258a99f76cc",
   "metadata": {},
   "outputs": [
    {
     "data": {
      "text/plain": [
       "PosixPath('datasets/flower_photos')"
      ]
     },
     "execution_count": 5,
     "metadata": {},
     "output_type": "execute_result"
    }
   ],
   "source": [
    "import pathlib\n",
    "data_dir = pathlib.Path(data_dir)\n",
    "data_dir"
   ]
  },
  {
   "cell_type": "code",
   "execution_count": 6,
   "id": "26328691-ad53-4db6-b758-00617b9ed1be",
   "metadata": {},
   "outputs": [],
   "source": [
    "flowers_images_dict = {\n",
    "    'roses': list(data_dir.glob('roses/*')),\n",
    "    'daisy': list(data_dir.glob('daisy/*')),\n",
    "    'dandelion': list(data_dir.glob('dandelion/*')),\n",
    "    'sunflowers': list(data_dir.glob('sunflowers/*')),\n",
    "    'tulips': list(data_dir.glob('tulips/*')),\n",
    "}"
   ]
  },
  {
   "cell_type": "code",
   "execution_count": 7,
   "id": "723afbea-b217-47d0-9d29-da57b1b4ad71",
   "metadata": {},
   "outputs": [],
   "source": [
    "flowers_labels_dict = {\n",
    "    'roses': 0,\n",
    "    'daisy': 1,\n",
    "    'dandelion': 2,\n",
    "    'sunflowers': 3,\n",
    "    'tulips': 4,\n",
    "}"
   ]
  },
  {
   "cell_type": "code",
   "execution_count": 8,
   "id": "1d6c3c2d-d835-4d56-8844-a3515199650f",
   "metadata": {},
   "outputs": [
    {
     "data": {
      "text/plain": [
       "[PosixPath('datasets/flower_photos/roses/10503217854_e66a804309.jpg'),\n",
       " PosixPath('datasets/flower_photos/roses/19823402005_2db025dd66_m.jpg'),\n",
       " PosixPath('datasets/flower_photos/roses/12240577184_b0de0e53ea_n.jpg'),\n",
       " PosixPath('datasets/flower_photos/roses/563847503_89e9756c80.jpg'),\n",
       " PosixPath('datasets/flower_photos/roses/3829990289_c0c3821e4d_m.jpg')]"
      ]
     },
     "execution_count": 8,
     "metadata": {},
     "output_type": "execute_result"
    }
   ],
   "source": [
    "flowers_images_dict['roses'][:5]"
   ]
  },
  {
   "cell_type": "code",
   "execution_count": 9,
   "id": "f788efb2-e560-4cc3-bd95-22a27348a8c8",
   "metadata": {},
   "outputs": [],
   "source": [
    "def resize_images(df):\n",
    "    X, y = [], []\n",
    "    for flower_name, images in flowers_images_dict.items():\n",
    "        for image in images:\n",
    "            img = cv2.imread(str(image))\n",
    "            resized_img = cv2.resize(img, (224,224))\n",
    "            X.append(resized_img)\n",
    "            y.append(flowers_labels_dict[flower_name])\n",
    "    return X, y"
   ]
  },
  {
   "cell_type": "code",
   "execution_count": 10,
   "id": "1dd391cd-8819-4441-be34-b212e8055ff4",
   "metadata": {},
   "outputs": [],
   "source": [
    "X, y = resize_images(flowers_images_dict)"
   ]
  },
  {
   "cell_type": "code",
   "execution_count": 11,
   "id": "9db67871-4ce5-4b2a-b1d5-005b2a4241c8",
   "metadata": {},
   "outputs": [],
   "source": [
    "def train_test_split(df):\n",
    "    train, test = np.split(df, [int(len(df)*0.8)])\n",
    "    return train, test"
   ]
  },
  {
   "cell_type": "code",
   "execution_count": 12,
   "id": "fd640cea-ae3f-4592-b2da-8917e8a08e3c",
   "metadata": {},
   "outputs": [],
   "source": [
    "X_train, X_test = train_test_split(X)\n",
    "y_train, y_test = train_test_split(y)"
   ]
  },
  {
   "cell_type": "code",
   "execution_count": 13,
   "id": "53e34a98-6382-47f6-8da9-3130db05cf1e",
   "metadata": {},
   "outputs": [
    {
     "name": "stdout",
     "output_type": "stream",
     "text": [
      "2936 734\n",
      "2936 734\n"
     ]
    }
   ],
   "source": [
    "print(len(X_train), len(X_test))\n",
    "print(len(y_train), len(y_test))"
   ]
  },
  {
   "cell_type": "markdown",
   "id": "950f3a0e-fcdf-462a-a245-a212c9ca2914",
   "metadata": {},
   "source": [
    "# ANN Model"
   ]
  },
  {
   "cell_type": "code",
   "execution_count": 14,
   "id": "4ef69639-fd4e-42da-8671-63a820e00992",
   "metadata": {},
   "outputs": [],
   "source": [
    "ann = Sequential([\n",
    "    Flatten(),\n",
    "    Dense(100, activation='relu'),\n",
    "    Dense(50, activation='relu'),\n",
    "    Dense(10, activation='softmax')\n",
    "])"
   ]
  },
  {
   "cell_type": "code",
   "execution_count": 15,
   "id": "2dd842a0-d6c9-40cf-aee8-35478999d2bd",
   "metadata": {},
   "outputs": [
    {
     "name": "stderr",
     "output_type": "stream",
     "text": [
      "2024-08-22 18:14:21.808918: E external/local_xla/xla/stream_executor/cuda/cuda_driver.cc:266] failed call to cuInit: CUDA_ERROR_NO_DEVICE: no CUDA-capable device is detected\n"
     ]
    }
   ],
   "source": [
    "ann.compile(\n",
    "    optimizer='adam',\n",
    "    loss='sparse_categorical_crossentropy',\n",
    "    metrics=['accuracy']\n",
    ")"
   ]
  },
  {
   "cell_type": "code",
   "execution_count": 16,
   "id": "32a8fa58-6a0f-479d-a41f-2c1923969ee9",
   "metadata": {},
   "outputs": [
    {
     "name": "stdout",
     "output_type": "stream",
     "text": [
      "\u001b[1m92/92\u001b[0m \u001b[32m━━━━━━━━━━━━━━━━━━━━\u001b[0m\u001b[37m\u001b[0m \u001b[1m14s\u001b[0m 147ms/step - accuracy: 0.3177 - loss: 3803.4111\n"
     ]
    },
    {
     "data": {
      "text/plain": [
       "<keras.src.callbacks.history.History at 0x710dd21600e0>"
      ]
     },
     "execution_count": 16,
     "metadata": {},
     "output_type": "execute_result"
    }
   ],
   "source": [
    "ann.fit(X_train, y_train)"
   ]
  },
  {
   "cell_type": "code",
   "execution_count": null,
   "id": "a23b47ad-d6e5-4cbb-8e84-bdef8f5e259e",
   "metadata": {},
   "outputs": [],
   "source": []
  }
 ],
 "metadata": {
  "kernelspec": {
   "display_name": "Python 3 (ipykernel)",
   "language": "python",
   "name": "python3"
  },
  "language_info": {
   "codemirror_mode": {
    "name": "ipython",
    "version": 3
   },
   "file_extension": ".py",
   "mimetype": "text/x-python",
   "name": "python",
   "nbconvert_exporter": "python",
   "pygments_lexer": "ipython3",
   "version": "3.12.4"
  }
 },
 "nbformat": 4,
 "nbformat_minor": 5
}
